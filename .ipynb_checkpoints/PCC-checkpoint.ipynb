{
 "cells": [
  {
   "cell_type": "code",
   "execution_count": 1,
   "metadata": {},
   "outputs": [
    {
     "data": {
      "text/html": [
       "<div>\n",
       "<style scoped>\n",
       "    .dataframe tbody tr th:only-of-type {\n",
       "        vertical-align: middle;\n",
       "    }\n",
       "\n",
       "    .dataframe tbody tr th {\n",
       "        vertical-align: top;\n",
       "    }\n",
       "\n",
       "    .dataframe thead th {\n",
       "        text-align: right;\n",
       "    }\n",
       "</style>\n",
       "<table border=\"1\" class=\"dataframe\">\n",
       "  <thead>\n",
       "    <tr style=\"text-align: right;\">\n",
       "      <th></th>\n",
       "      <th>Number</th>\n",
       "      <th>Name</th>\n",
       "      <th>Type_1</th>\n",
       "      <th>Type_2</th>\n",
       "      <th>Total</th>\n",
       "      <th>HP</th>\n",
       "      <th>Attack</th>\n",
       "      <th>Defense</th>\n",
       "      <th>Sp_Atk</th>\n",
       "      <th>Sp_Def</th>\n",
       "      <th>...</th>\n",
       "      <th>hasGender</th>\n",
       "      <th>Pr_Male</th>\n",
       "      <th>Egg_Group_1</th>\n",
       "      <th>Egg_Group_2</th>\n",
       "      <th>hasMegaEvolution</th>\n",
       "      <th>Height_m</th>\n",
       "      <th>Weight_kg</th>\n",
       "      <th>Catch_Rate</th>\n",
       "      <th>Body_Style</th>\n",
       "      <th>Tier</th>\n",
       "    </tr>\n",
       "  </thead>\n",
       "  <tbody>\n",
       "    <tr>\n",
       "      <th>0</th>\n",
       "      <td>1</td>\n",
       "      <td>Bulbasaur</td>\n",
       "      <td>Grass</td>\n",
       "      <td>Poison</td>\n",
       "      <td>318</td>\n",
       "      <td>45</td>\n",
       "      <td>49</td>\n",
       "      <td>49</td>\n",
       "      <td>65</td>\n",
       "      <td>65</td>\n",
       "      <td>...</td>\n",
       "      <td>True</td>\n",
       "      <td>0.875</td>\n",
       "      <td>Monster</td>\n",
       "      <td>Grass</td>\n",
       "      <td>False</td>\n",
       "      <td>0.71</td>\n",
       "      <td>6.9</td>\n",
       "      <td>45</td>\n",
       "      <td>quadruped</td>\n",
       "      <td>LC</td>\n",
       "    </tr>\n",
       "    <tr>\n",
       "      <th>1</th>\n",
       "      <td>2</td>\n",
       "      <td>Ivysaur</td>\n",
       "      <td>Grass</td>\n",
       "      <td>Poison</td>\n",
       "      <td>405</td>\n",
       "      <td>60</td>\n",
       "      <td>62</td>\n",
       "      <td>63</td>\n",
       "      <td>80</td>\n",
       "      <td>80</td>\n",
       "      <td>...</td>\n",
       "      <td>True</td>\n",
       "      <td>0.875</td>\n",
       "      <td>Monster</td>\n",
       "      <td>Grass</td>\n",
       "      <td>False</td>\n",
       "      <td>0.99</td>\n",
       "      <td>13.0</td>\n",
       "      <td>45</td>\n",
       "      <td>quadruped</td>\n",
       "      <td>NFE</td>\n",
       "    </tr>\n",
       "    <tr>\n",
       "      <th>2</th>\n",
       "      <td>3</td>\n",
       "      <td>Venusaur</td>\n",
       "      <td>Grass</td>\n",
       "      <td>Poison</td>\n",
       "      <td>525</td>\n",
       "      <td>80</td>\n",
       "      <td>82</td>\n",
       "      <td>83</td>\n",
       "      <td>100</td>\n",
       "      <td>100</td>\n",
       "      <td>...</td>\n",
       "      <td>True</td>\n",
       "      <td>0.875</td>\n",
       "      <td>Monster</td>\n",
       "      <td>Grass</td>\n",
       "      <td>True</td>\n",
       "      <td>2.01</td>\n",
       "      <td>100.0</td>\n",
       "      <td>45</td>\n",
       "      <td>quadruped</td>\n",
       "      <td>UU</td>\n",
       "    </tr>\n",
       "    <tr>\n",
       "      <th>3</th>\n",
       "      <td>4</td>\n",
       "      <td>Charmander</td>\n",
       "      <td>Fire</td>\n",
       "      <td>NaN</td>\n",
       "      <td>309</td>\n",
       "      <td>39</td>\n",
       "      <td>52</td>\n",
       "      <td>43</td>\n",
       "      <td>60</td>\n",
       "      <td>50</td>\n",
       "      <td>...</td>\n",
       "      <td>True</td>\n",
       "      <td>0.875</td>\n",
       "      <td>Monster</td>\n",
       "      <td>Dragon</td>\n",
       "      <td>False</td>\n",
       "      <td>0.61</td>\n",
       "      <td>8.5</td>\n",
       "      <td>45</td>\n",
       "      <td>bipedal_tailed</td>\n",
       "      <td>LC</td>\n",
       "    </tr>\n",
       "    <tr>\n",
       "      <th>4</th>\n",
       "      <td>5</td>\n",
       "      <td>Charmeleon</td>\n",
       "      <td>Fire</td>\n",
       "      <td>NaN</td>\n",
       "      <td>405</td>\n",
       "      <td>58</td>\n",
       "      <td>64</td>\n",
       "      <td>58</td>\n",
       "      <td>80</td>\n",
       "      <td>65</td>\n",
       "      <td>...</td>\n",
       "      <td>True</td>\n",
       "      <td>0.875</td>\n",
       "      <td>Monster</td>\n",
       "      <td>Dragon</td>\n",
       "      <td>False</td>\n",
       "      <td>1.09</td>\n",
       "      <td>19.0</td>\n",
       "      <td>45</td>\n",
       "      <td>bipedal_tailed</td>\n",
       "      <td>NFE</td>\n",
       "    </tr>\n",
       "  </tbody>\n",
       "</table>\n",
       "<p>5 rows × 24 columns</p>\n",
       "</div>"
      ],
      "text/plain": [
       "   Number        Name Type_1  Type_2  Total  HP  Attack  Defense  Sp_Atk  \\\n",
       "0       1   Bulbasaur  Grass  Poison    318  45      49       49      65   \n",
       "1       2     Ivysaur  Grass  Poison    405  60      62       63      80   \n",
       "2       3    Venusaur  Grass  Poison    525  80      82       83     100   \n",
       "3       4  Charmander   Fire     NaN    309  39      52       43      60   \n",
       "4       5  Charmeleon   Fire     NaN    405  58      64       58      80   \n",
       "\n",
       "   Sp_Def  ...   hasGender  Pr_Male  Egg_Group_1 Egg_Group_2  \\\n",
       "0      65  ...        True    0.875      Monster       Grass   \n",
       "1      80  ...        True    0.875      Monster       Grass   \n",
       "2     100  ...        True    0.875      Monster       Grass   \n",
       "3      50  ...        True    0.875      Monster      Dragon   \n",
       "4      65  ...        True    0.875      Monster      Dragon   \n",
       "\n",
       "   hasMegaEvolution  Height_m Weight_kg Catch_Rate      Body_Style  Tier  \n",
       "0             False      0.71       6.9         45       quadruped    LC  \n",
       "1             False      0.99      13.0         45       quadruped   NFE  \n",
       "2              True      2.01     100.0         45       quadruped    UU  \n",
       "3             False      0.61       8.5         45  bipedal_tailed    LC  \n",
       "4             False      1.09      19.0         45  bipedal_tailed   NFE  \n",
       "\n",
       "[5 rows x 24 columns]"
      ]
     },
     "execution_count": 1,
     "metadata": {},
     "output_type": "execute_result"
    }
   ],
   "source": [
    "import numpy as np\n",
    "import matplotlib.pyplot as plt\n",
    "import pandas as pd\n",
    "\n",
    "pokemon_data = pd.read_csv('pokemonData.csv')\n",
    "pokemon_data.head()"
   ]
  },
  {
   "cell_type": "code",
   "execution_count": 2,
   "metadata": {},
   "outputs": [],
   "source": [
    "pokemon_data_train = pokemon_data[:500]\n",
    "pokemon_data_test = pokemon_data[500:]\n",
    "\n",
    "train_length = len(pokemon_data_train)\n",
    "test_length = len(pokemon_data_test)\n",
    "\n",
    "# A pokemon's competitive tier and what we will be predicting\n",
    "tier_target_train = pokemon_data_train['Tier']\n",
    "tier_target_test = pokemon_data_test['Tier']\n",
    "\n",
    "# A pokemon's stat total and the feature most likely related to competitive tier\n",
    "total_train = pokemon_data_train['Total']\n",
    "total_test = pokemon_data_test['Total']\n",
    "\n",
    "# A boolean value saying whether a pokemon is a legendary\n",
    "# Legendary pokemon tend to have higher stat totals\n",
    "legendary_train = pokemon_data_train['isLegendary']\n",
    "legendary_test = pokemon_data_test['isLegendary']\n",
    "\n",
    "# A boolean value saying whether the pokemon has a mega evolution\n",
    "# Mega evolution adds a flat 100 to the stat total\n",
    "mega_train = pokemon_data_train['hasMegaEvolution']\n",
    "mega_test = pokemon_data_test['hasMegaEvolution']\n",
    "\n",
    "# Pokemon type\n",
    "type_1_train = pokemon_data_train[\"Type_1\"]\n",
    "type_2_train = pokemon_data_train[\"Type_2\"]\n",
    "\n",
    "type_1_test = pokemon_data_test[\"Type_1\"]\n",
    "type_2_test = pokemon_data_test[\"Type_2\"]"
   ]
  },
  {
   "cell_type": "code",
   "execution_count": 3,
   "metadata": {},
   "outputs": [],
   "source": [
    "def assign_type(array):\n",
    "    type_arr = []\n",
    "    for poke_type in array:\n",
    "        if poke_type == \"Grass\":\n",
    "            type_arr.append(1)\n",
    "        elif poke_type == \"Fire\":\n",
    "            type_arr.append(2)\n",
    "        elif poke_type == \"Water\":\n",
    "            type_arr.append(3)\n",
    "        elif poke_type == \"Electric\":\n",
    "            type_arr.append(4)\n",
    "        elif poke_type == \"Ground\":\n",
    "            type_arr.append(5)\n",
    "        elif poke_type == \"Rock\":\n",
    "            type_arr.append(6)\n",
    "        elif poke_type == \"Steel\":\n",
    "            type_arr.append(7)\n",
    "        elif poke_type == \"Fairy\":\n",
    "            type_arr.append(8)\n",
    "        elif poke_type == \"Dragon\":\n",
    "            type_arr.append(9)\n",
    "        elif poke_type == \"Ghost\":\n",
    "            type_arr.append(10)\n",
    "        elif poke_type == \"Dark\":\n",
    "            type_arr.append(11)\n",
    "        elif poke_type == \"Psychic\":\n",
    "            type_arr.append(12)\n",
    "        elif poke_type == \"Poison\":\n",
    "            type_arr.append(13)\n",
    "        elif poke_type == \"Ice\":\n",
    "            type_arr.append(14)\n",
    "        elif poke_type == \"Fighting\":\n",
    "            type_arr.append(15)\n",
    "        elif poke_type == \"Normal\":\n",
    "            type_arr.append(16)\n",
    "        elif poke_type == \"Flying\":\n",
    "            type_arr.append(17)\n",
    "        elif poke_type == \"Bug\":\n",
    "            type_arr.append(18)\n",
    "        else:\n",
    "            type_arr.append(0)\n",
    "    return type_arr"
   ]
  },
  {
   "cell_type": "code",
   "execution_count": 4,
   "metadata": {},
   "outputs": [
    {
     "data": {
      "text/plain": [
       "array([  3.,   0., 308.,   0.,   0.])"
      ]
     },
     "execution_count": 4,
     "metadata": {},
     "output_type": "execute_result"
    }
   ],
   "source": [
    "# Put all the individual features in one feature array\n",
    "training_set = np.empty((train_length,5))\n",
    "testing_set = np.empty((test_length,5))\n",
    "\n",
    "type_1_train_numarr =  np.asarray(assign_type(type_1_train))\n",
    "type_1_test_numarr =  np.asarray(assign_type(type_1_test))\n",
    "\n",
    "type_2_train_numarr =  np.asarray(assign_type(type_2_train))\n",
    "type_2_test_numarr =  np.asarray(assign_type(type_2_test))\n",
    "\n",
    "i = 0\n",
    "while i < train_length:\n",
    "    training_set[i] = [type_1_train_numarr[i], type_2_train_numarr[i], total_train[i], legendary_train[i], mega_train[i]]\n",
    "    i += 1\n",
    "while i < train_length+test_length:\n",
    "    testing_set[i-train_length] =  [type_1_test_numarr[i - 500], type_2_test_numarr[i - 500], total_test[i], legendary_test[i], mega_test[i]]\n",
    "    i += 1\n",
    "testing_set[0]"
   ]
  },
  {
   "cell_type": "code",
   "execution_count": 5,
   "metadata": {},
   "outputs": [],
   "source": [
    "from sklearn.preprocessing import Normalizer\n",
    "def normalize(X):\n",
    "    data = X\n",
    "    transformer = Normalizer().fit_transform(data) # fit does nothing.\n",
    "    return transformer"
   ]
  },
  {
   "cell_type": "code",
   "execution_count": 6,
   "metadata": {},
   "outputs": [
    {
     "name": "stdout",
     "output_type": "stream",
     "text": [
      "The accuracy rate is 56.11\n",
      "[[  1.  13. 318.   0.   0.]\n",
      " [  1.  13. 405.   0.   0.]\n",
      " [  1.  13. 525.   0.   1.]\n",
      " ...\n",
      " [  2.   0. 308.   0.   0.]\n",
      " [  2.  15. 418.   0.   0.]\n",
      " [  2.  15. 528.   0.   0.]]\n"
     ]
    }
   ],
   "source": [
    "# Predict with Logistic Regression(LR)\n",
    "from sklearn.linear_model import LogisticRegression\n",
    "\n",
    "lr = LogisticRegression().fit(training_set, tier_target_train)\n",
    "test_pred = lr.predict(testing_set)\n",
    "predict_arr = lr.predict_log_proba(testing_set) \n",
    "score = lr.score(testing_set, tier_target_test)\n",
    "print(\"The accuracy rate is %4.2f\" % (score*100))\n",
    "print(training_set)"
   ]
  },
  {
   "cell_type": "code",
   "execution_count": 7,
   "metadata": {},
   "outputs": [
    {
     "name": "stdout",
     "output_type": "stream",
     "text": [
      "The accuracy rate is 34.84\n"
     ]
    },
    {
     "data": {
      "text/plain": [
       "array([[0.00314201, 0.04084618, 0.99916051, 0.        , 0.        ],\n",
       "       [0.00246786, 0.03208214, 0.99948219, 0.        , 0.        ],\n",
       "       [0.00190417, 0.02475423, 0.99968994, 0.        , 0.00190417],\n",
       "       ...,\n",
       "       [0.00649337, 0.        , 0.99997892, 0.        , 0.        ],\n",
       "       [0.00478156, 0.03586167, 0.99934532, 0.        , 0.        ],\n",
       "       [0.00378632, 0.02839743, 0.99958954, 0.        , 0.        ]])"
      ]
     },
     "execution_count": 7,
     "metadata": {},
     "output_type": "execute_result"
    }
   ],
   "source": [
    "# Predict use LR with Normalizer\n",
    "lr_normal_train = normalize(training_set)\n",
    "lr_normal_test = normalize(testing_set)\n",
    "\n",
    "lr_normal = LogisticRegression().fit(lr_normal_train, tier_target_train)\n",
    "normal_test_pred = lr_normal.predict(lr_normal_test)\n",
    "normal_predict_arr = lr_normal.predict_log_proba(lr_normal_test) \n",
    "score_normal = lr_normal.score(lr_normal_test, tier_target_test)\n",
    "print(\"The accuracy rate is %4.2f\" % (score_normal*100))\n",
    "lr_normal_train"
   ]
  },
  {
   "cell_type": "code",
   "execution_count": 8,
   "metadata": {},
   "outputs": [
    {
     "name": "stdout",
     "output_type": "stream",
     "text": [
      "     The Confusion Matrix without Normalizer\n",
      "       Uber  OU  UU  NU   RU   PU   LC   NFE\n",
      "[[ 2  0  0  0  0  7  0  0]\n",
      " [ 0  0  0  0  0  8  0  0]\n",
      " [ 5  0  0  0  0 13  0  0]\n",
      " [ 0  0  0  0  1 21  1  0]\n",
      " [ 1  0  0  0  0 17  0  0]\n",
      " [ 0  0  0  0  0 45  0  0]\n",
      " [ 0  0  0  0  0  0 77  0]\n",
      " [ 0  0  0  0  0  7 16  0]]\n",
      "     The Confusion Matrix with Normalizer\n",
      "       Uber  OU  UU  NU   RU   PU   LC   NFE\n",
      "[[ 0  0  0  0  0  0  9  0]\n",
      " [ 0  0  0  0  0  0  8  0]\n",
      " [ 0  0  0  0  0  0 18  0]\n",
      " [ 0  0  0  0  0  0 23  0]\n",
      " [ 0  0  0  0  0  0 18  0]\n",
      " [ 0  0  0  0  0  0 45  0]\n",
      " [ 0  0  0  0  0  0 77  0]\n",
      " [ 0  0  0  0  0  0 23  0]]\n"
     ]
    }
   ],
   "source": [
    "# Confusion matrix for normalized and unnormalized LR \n",
    "from sklearn.metrics import confusion_matrix\n",
    "type_list =['Uber', 'OU', 'UU', 'NU', 'RU', 'PU', 'LC', 'NFE']\n",
    "\n",
    "lr_matrix = confusion_matrix(tier_target_test, test_pred, labels=['Uber', 'OU', 'UU', 'NU', 'RU', 'PU', 'LC', 'NFE'])\n",
    "normal_lr_matrix = confusion_matrix(tier_target_test, normal_test_pred, labels=['Uber', 'OU', 'UU', 'NU', 'RU', 'PU', 'LC', 'NFE'])\n",
    "print(\"     The Confusion Matrix without Normalizer\")\n",
    "print(\"       Uber  OU  UU  NU   RU   PU   LC   NFE\")\n",
    "\n",
    "print(lr_matrix)\n",
    "    \n",
    "print(\"     The Confusion Matrix with Normalizer\")\n",
    "print(\"       Uber  OU  UU  NU   RU   PU   LC   NFE\")\n",
    "\n",
    "print(normal_lr_matrix)\n",
    "\n",
    "# for n in type_list:\n",
    "#     line = \"\"\n",
    "#     for m in type_list:\n",
    "#         line += \"    \"+str(lr_normal_matrix[n][m])\n",
    "#     print (n+line)"
   ]
  },
  {
   "cell_type": "markdown",
   "metadata": {},
   "source": [
    "Classify the tiers using Naive Bayes"
   ]
  },
  {
   "cell_type": "code",
   "execution_count": 12,
   "metadata": {
    "scrolled": true
   },
   "outputs": [
    {
     "name": "stdout",
     "output_type": "stream",
     "text": [
      "The accuracy is 57.92%\n",
      "The accuracy is 41.18%\n",
      "The accuracy is 38.01%\n"
     ]
    }
   ],
   "source": [
    "from sklearn.naive_bayes import GaussianNB\n",
    "\n",
    "def gnb(X_train, Y_train, X_test, Y_test):\n",
    "    clf = GaussianNB()\n",
    "    clf.fit(X_train, Y_train)\n",
    "    print(\"The accuracy is %4.2f%%\" % (clf.score(X_test, Y_test) * 100))\n",
    "    \n",
    "Y_train = tier_target_train\n",
    "Y_test = tier_target_test\n",
    "\n",
    "X_train = np.array(total_train).reshape(-1, 1)\n",
    "X_test = np.array(total_test).reshape(-1, 1)\n",
    "\n",
    "gnb(X_train, Y_train, X_test, Y_test)\n",
    "gnb(training_set, Y_train, testing_set, Y_test)\n",
    "\n",
    "gnb(normalize(training_set), Y_train, normalize(testing_set), Y_test)"
   ]
  },
  {
   "cell_type": "code",
   "execution_count": 11,
   "metadata": {},
   "outputs": [
    {
     "data": {
      "text/plain": [
       "<matplotlib.collections.PathCollection at 0x1345c9fc88>"
      ]
     },
     "execution_count": 11,
     "metadata": {},
     "output_type": "execute_result"
    },
    {
     "data": {
      "image/png": "[encoded data removed]",
      "text/plain": [
       "<Figure size 432x288 with 1 Axes>"
      ]
     },
     "metadata": {
      "needs_background": "light"
     },
     "output_type": "display_data"
    }
   ],
   "source": [
    "# Use K-mean clustering\n",
    "from sklearn.cluster import KMeans\n",
    "from sklearn.decomposition import PCA\n",
    "\n",
    "kmeans = KMeans(n_clusters=8, random_state=0)\n",
    "tier_fit = kmeans.fit(training_set)\n",
    "tier_graph = kmeans.fit_predict(training_set)\n",
    "tier_graph.shape\n",
    "\n",
    "pca = PCA(n_components=2)\n",
    "pca_data = pca.fit_transform(training_set)\n",
    "pca_data[:,0]\n",
    "plt.scatter(pca_data[:, 0], pca_data[:, 1], c=tier_graph)"
   ]
  },
  {
   "cell_type": "code",
   "execution_count": 10,
   "metadata": {},
   "outputs": [
    {
     "name": "stdout",
     "output_type": "stream",
     "text": [
      "The accuracy for total stats only, 52.49%\n",
      "\n",
      "\n",
      "The accuracy for all features, 44.80%\n",
      "\n",
      "\n",
      "The accuracy for all feature normalized, 34.84%\n",
      "\n",
      "\n"
     ]
    }
   ],
   "source": [
    "from sklearn.svm import SVC\n",
    "\n",
    "def svm(X_train, Y_train, X_test, Y_test, des):\n",
    "    svc = SVC(C=1.0, cache_size=200, class_weight=None, coef0=0.0,\n",
    "              decision_function_shape='ovr', degree=3, gamma='auto', kernel='rbf',\n",
    "              max_iter=-1, probability=False, random_state=None, shrinking=True,\n",
    "              tol=0.001, verbose=False)\n",
    "    svc.fit(X_train, Y_train)\n",
    "    print('The accuracy for ' + des + ', %4.2f%%\\n\\n'% (svc.score(X_test, Y_test) * 100))\n",
    "    \n",
    "svm(X_train, Y_train, X_test, Y_test, \"total stats only\")\n",
    "svm(training_set, Y_train, testing_set, Y_test, 'all features')\n",
    "svm(normalize(training_set), Y_train, normalize(testing_set), Y_test, 'all feature normalized')"
   ]
  }
 ],
 "metadata": {
  "kernelspec": {
   "display_name": "Python 3",
   "language": "python",
   "name": "python3"
  },
  "language_info": {
   "codemirror_mode": {
    "name": "ipython",
    "version": 3
   },
   "file_extension": ".py",
   "mimetype": "text/x-python",
   "name": "python",
   "nbconvert_exporter": "python",
   "pygments_lexer": "ipython3",
   "version": "3.7.0"
  }
 },
 "nbformat": 4,
 "nbformat_minor": 2
}
