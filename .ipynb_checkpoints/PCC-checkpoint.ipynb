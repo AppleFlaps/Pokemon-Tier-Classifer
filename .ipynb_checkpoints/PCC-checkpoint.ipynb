{
 "cells": [
  {
   "cell_type": "code",
   "execution_count": 3,
   "metadata": {},
   "outputs": [],
   "source": [
    "import numpy as np\n",
    "import matplotlib.pyplot as plt\n",
    "import pandas as pd\n",
    "\n",
    "pokemon_data = pd.read_csv('pokemonData.csv')"
   ]
  },
  {
   "cell_type": "code",
   "execution_count": 4,
   "metadata": {},
   "outputs": [
    {
     "name": "stdout",
     "output_type": "stream",
     "text": [
      "LC\n",
      "318\n",
      "False\n",
      "False\n"
     ]
    }
   ],
   "source": [
    "pokemon_data_train = pokemon_data[:500]\n",
    "pokemon_data_test = pokemon_data[500:]\n",
    "\n",
    "tier_target_train = pokemon_data_train['Tier']\n",
    "tier_target_test = pokemon_data_test['Tier']\n",
    "\n",
    "total_train = pokemon_data_train['Total']\n",
    "total_test = pokemon_data_test['Total']\n",
    "\n",
    "legendary_train = pokemon_data_train['isLegendary']\n",
    "legendary_test = pokemon_data_test['isLegendary']\n",
    "\n",
    "mega_train = pokemon_data_train['hasMegaEvolution']\n",
    "mega_test = pokemon_data_test['hasMegaEvolution']\n",
    "\n",
    "print(tier_target_train[0])\n",
    "\n",
    "print(total_train[0])\n",
    "\n",
    "print(legendary_train[0])\n",
    "\n",
    "print(mega_train[0])"
   ]
  }
 ],
 "metadata": {
  "kernelspec": {
   "display_name": "Python 3",
   "language": "python",
   "name": "python3"
  },
  "language_info": {
   "codemirror_mode": {
    "name": "ipython",
    "version": 3
   },
   "file_extension": ".py",
   "mimetype": "text/x-python",
   "name": "python",
   "nbconvert_exporter": "python",
   "pygments_lexer": "ipython3",
   "version": "3.7.0"
  }
 },
 "nbformat": 4,
 "nbformat_minor": 2
}
